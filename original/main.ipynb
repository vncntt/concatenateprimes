{
 "cells": [
  {
   "cell_type": "code",
   "execution_count": 37,
   "metadata": {},
   "outputs": [],
   "source": [
    "class Tree(object):\n",
    "    def __init__(self, name=1, children=None):\n",
    "        self.name = name\n",
    "        self.children = []\n",
    "        if children is not None:\n",
    "            for child in children:\n",
    "                self.add_child(child)\n",
    "    def __repr__(self):\n",
    "        if not self.children:\n",
    "            return self.name\n",
    "        else:\n",
    "            return f\"{self.name}({', '.join(repr(child) for child in self.children)})\"\n",
    "        return self.name\n",
    "    def add_child(self, node):\n",
    "        assert isinstance(node, Tree)\n",
    "        self.children.append(node)\n",
    "    def value(self):\n",
    "        return int(self.name)"
   ]
  },
  {
   "cell_type": "code",
   "execution_count": 29,
   "metadata": {},
   "outputs": [],
   "source": [
    "import numpy as np \n",
    "\n",
    "def check_prime(n):\n",
    "    if n==1:\n",
    "        return False\n",
    "    else:\n",
    "        for i in range(2,int(np.sqrt(n))+1):\n",
    "            if n%i==0:\n",
    "                return False\n",
    "        return True"
   ]
  },
  {
   "cell_type": "code",
   "execution_count": 78,
   "metadata": {},
   "outputs": [],
   "source": [
    "single_digits = [1,3,7,9]"
   ]
  },
  {
   "cell_type": "code",
   "execution_count": 79,
   "metadata": {},
   "outputs": [],
   "source": [
    "tree2 = Tree(\"2\")\n",
    "tree3 = Tree(\"3\")\n",
    "tree5 = Tree(\"5\")\n",
    "tree7 = Tree(\"7\")"
   ]
  },
  {
   "cell_type": "code",
   "execution_count": 80,
   "metadata": {},
   "outputs": [],
   "source": [
    "def add_prime_children(node):\n",
    "    for sd in single_digits:\n",
    "        new_val = 10*node.value() + sd\n",
    "        if check_prime(new_val):\n",
    "            new_child = Tree(str(new_val))\n",
    "            node.add_child(new_child)\n",
    "            add_prime_children(new_child)"
   ]
  },
  {
   "cell_type": "code",
   "execution_count": 81,
   "metadata": {},
   "outputs": [],
   "source": [
    "add_prime_children(tree2)\n",
    "add_prime_children(tree3)\n",
    "add_prime_children(tree5)\n",
    "add_prime_children(tree7)"
   ]
  },
  {
   "cell_type": "code",
   "execution_count": 82,
   "metadata": {},
   "outputs": [
    {
     "data": {
      "text/plain": [
       "3(31(311(3119(31193)), 313(3137(31379)), 317), 37(373(3733(37337(373379(3733799(37337999))), 37339(373393)), 3739(37397)), 379(3793, 3797)))"
      ]
     },
     "execution_count": 82,
     "metadata": {},
     "output_type": "execute_result"
    }
   ],
   "source": [
    "tree3"
   ]
  },
  {
   "cell_type": "code",
   "execution_count": 86,
   "metadata": {},
   "outputs": [],
   "source": [
    "from graphviz import Digraph\n",
    "\n",
    "def add_to_graph(graph, node, parent=None):\n",
    "    graph.node(node.name, node.name)\n",
    "    if parent:\n",
    "        graph.edge(parent.name, node.name)\n",
    "    for child in node.children:\n",
    "        add_to_graph(graph, child, node)\n",
    "\n",
    "def visualize_prime_tree(root):\n",
    "    dot = Digraph(comment='Prime Number Tree')\n",
    "    dot.attr(rankdir='TB', size='8,8')\n",
    "    add_to_graph(dot, root)\n",
    "    return dot"
   ]
  },
  {
   "cell_type": "code",
   "execution_count": 87,
   "metadata": {},
   "outputs": [
    {
     "name": "stdout",
     "output_type": "stream",
     "text": [
      "Tree for 2 has been saved as 'prime_tree_2.png'\n",
      "Tree for 3 has been saved as 'prime_tree_3.png'\n",
      "Tree for 5 has been saved as 'prime_tree_5.png'\n",
      "Tree for 7 has been saved as 'prime_tree_7.png'\n"
     ]
    }
   ],
   "source": [
    "# Generate the trees\n",
    "single_digits = [1, 3, 7, 9]\n",
    "trees = [Tree(str(i)) for i in [2, 3, 5, 7]]\n",
    "for tree in trees:\n",
    "    add_prime_children(tree)\n",
    "\n",
    "# Visualize each tree\n",
    "for i, tree in enumerate(trees):\n",
    "    dot = visualize_prime_tree(tree)\n",
    "    dot.render(f'prime_tree_{tree.name}', format='png', cleanup=True)\n",
    "    print(f\"Tree for {tree.name} has been saved as 'prime_tree_{tree.name}.png'\")"
   ]
  },
  {
   "cell_type": "code",
   "execution_count": null,
   "metadata": {},
   "outputs": [],
   "source": []
  }
 ],
 "metadata": {
  "kernelspec": {
   "display_name": "Python 3",
   "language": "python",
   "name": "python3"
  },
  "language_info": {
   "codemirror_mode": {
    "name": "ipython",
    "version": 3
   },
   "file_extension": ".py",
   "mimetype": "text/x-python",
   "name": "python",
   "nbconvert_exporter": "python",
   "pygments_lexer": "ipython3",
   "version": "3.9.6"
  }
 },
 "nbformat": 4,
 "nbformat_minor": 2
}
